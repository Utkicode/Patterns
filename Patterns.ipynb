{
  "nbformat": 4,
  "nbformat_minor": 0,
  "metadata": {
    "colab": {
      "name": "Patterns.ipynb",
      "provenance": [],
      "collapsed_sections": [],
      "authorship_tag": "ABX9TyNiMfJBktI0PYO1vazSqnv/",
      "include_colab_link": true
    },
    "kernelspec": {
      "name": "python3",
      "display_name": "Python 3"
    }
  },
  "cells": [
    {
      "cell_type": "markdown",
      "metadata": {
        "id": "view-in-github",
        "colab_type": "text"
      },
      "source": [
        "<a href=\"https://colab.research.google.com/github/Utkicode/Patterns/blob/master/Patterns.ipynb\" target=\"_parent\"><img src=\"https://colab.research.google.com/assets/colab-badge.svg\" alt=\"Open In Colab\"/></a>"
      ]
    },
    {
      "cell_type": "code",
      "metadata": {
        "id": "fK6dQeDTLK7A",
        "colab_type": "code",
        "colab": {
          "base_uri": "https://localhost:8080/",
          "height": 168
        },
        "outputId": "36eec9f0-dc83-4aef-dae7-88cc0fb61953"
      },
      "source": [
        "rows = int(input(\"Enter number of rows :\"))\n",
        "for u in range(1,rows+1):\n",
        "    for v in range(1,u+1):\n",
        "        print(\"*\",end=\"\")\n",
        "    print(\"\")    \n"
      ],
      "execution_count": 7,
      "outputs": [
        {
          "output_type": "stream",
          "text": [
            "Enter number of rows :8\n",
            "*\n",
            "**\n",
            "***\n",
            "****\n",
            "*****\n",
            "******\n",
            "*******\n",
            "********\n"
          ],
          "name": "stdout"
        }
      ]
    },
    {
      "cell_type": "code",
      "metadata": {
        "id": "pSRvO-xiNWab",
        "colab_type": "code",
        "colab": {
          "base_uri": "https://localhost:8080/",
          "height": 202
        },
        "outputId": "4f0e15d0-f7ba-4304-a29a-f37f0b262cf9"
      },
      "source": [
        "rows = int(input(\"Enter number of rows :\"))\n",
        "for u in range(1,rows+1):\n",
        "    for v in range(1,u+1):\n",
        "        if((u+v)%2==0):\n",
        "            print(\"1\",end=\"\")\n",
        "        else:print(\"0\",end=\"\")\n",
        "    print(\"\")        \n"
      ],
      "execution_count": 21,
      "outputs": [
        {
          "output_type": "stream",
          "text": [
            "Enter number of rows :10\n",
            "1\n",
            "01\n",
            "101\n",
            "0101\n",
            "10101\n",
            "010101\n",
            "1010101\n",
            "01010101\n",
            "101010101\n",
            "0101010101\n"
          ],
          "name": "stdout"
        }
      ]
    },
    {
      "cell_type": "code",
      "metadata": {
        "id": "q6tyAuzZP09j",
        "colab_type": "code",
        "colab": {
          "base_uri": "https://localhost:8080/",
          "height": 370
        },
        "outputId": "967cc979-849f-4e03-9f81-d512eee70b5f"
      },
      "source": [
        "rows = int(input(\"Enter number of rows :\"))\n",
        "for u in range(1,rows+1):\n",
        "    for v in range(rows-1,u-1,-1):\n",
        "        print(\" \",end=\"\")\n",
        "    for w in range(0,2*u-1):\n",
        "        print(\"*\",end=\"\")\n",
        "    print(\"\")        "
      ],
      "execution_count": 23,
      "outputs": [
        {
          "output_type": "stream",
          "text": [
            "Enter number of rows :20\n",
            "                   *\n",
            "                  ***\n",
            "                 *****\n",
            "                *******\n",
            "               *********\n",
            "              ***********\n",
            "             *************\n",
            "            ***************\n",
            "           *****************\n",
            "          *******************\n",
            "         *********************\n",
            "        ***********************\n",
            "       *************************\n",
            "      ***************************\n",
            "     *****************************\n",
            "    *******************************\n",
            "   *********************************\n",
            "  ***********************************\n",
            " *************************************\n",
            "***************************************\n"
          ],
          "name": "stdout"
        }
      ]
    },
    {
      "cell_type": "code",
      "metadata": {
        "id": "8q4r3mrKY9G2",
        "colab_type": "code",
        "colab": {
          "base_uri": "https://localhost:8080/",
          "height": 218
        },
        "outputId": "a5baff52-15ca-45a6-b0ad-9e82772d044c"
      },
      "source": [
        "rows = int(input(\"Enter number of rows :\"))\n",
        "for u in range(1,rows+1):\n",
        "    for v in range(rows-1,u-1,-1):\n",
        "        print(\" \",end=\"\")\n",
        "    for w in range(0,2*u-1):\n",
        "        print(\"*\",end=\"\")\n",
        "    print(\"\")        \n",
        "for x in range(rows-1,0,-1):\n",
        "    for v in range(rows-1,x-1,-1):\n",
        "        print(\" \",end=\"\")\n",
        "    for w in range(0,2*x-1):\n",
        "        print(\"*\",end=\"\")\n",
        "    print(\"\") "
      ],
      "execution_count": 27,
      "outputs": [
        {
          "output_type": "stream",
          "text": [
            "Enter number of rows :6\n",
            "     *\n",
            "    ***\n",
            "   *****\n",
            "  *******\n",
            " *********\n",
            "***********\n",
            " *********\n",
            "  *******\n",
            "   *****\n",
            "    ***\n",
            "     *\n"
          ],
          "name": "stdout"
        }
      ]
    },
    {
      "cell_type": "code",
      "metadata": {
        "id": "mh3NzaAwgA5w",
        "colab_type": "code",
        "colab": {}
      },
      "source": [
        ""
      ],
      "execution_count": null,
      "outputs": []
    }
  ]
}